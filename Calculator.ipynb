{
 "cells": [
  {
   "cell_type": "code",
   "execution_count": null,
   "id": "6d3c566c-7d6e-493b-a882-4945711c03b4",
   "metadata": {},
   "outputs": [],
   "source": []
  },
  {
   "cell_type": "code",
   "execution_count": 1,
   "id": "aaac95dd-2762-4f2f-b476-00cacb042c30",
   "metadata": {},
   "outputs": [],
   "source": [
    "def add(x,y):\n",
    "    return x + y\n",
    "    \n",
    "def subtract(x,y):\n",
    "    return x - y\n",
    "    \n",
    "def multiply(x,y):\n",
    "    return x * y\n",
    "    \n",
    "def divide(x,y):\n",
    "    return x / y\n",
    "    \n",
    "\n",
    "    "
   ]
  },
  {
   "cell_type": "code",
   "execution_count": 3,
   "id": "68c22dd6-d22f-4278-abbf-3aac8676918a",
   "metadata": {},
   "outputs": [
    {
     "ename": "SyntaxError",
     "evalue": "expected ':' (658317553.py, line 7)",
     "output_type": "error",
     "traceback": [
      "\u001b[1;36m  Cell \u001b[1;32mIn[3], line 7\u001b[1;36m\u001b[0m\n\u001b[1;33m    if choice.upper() in  ('A', 'ADD', 'ADDITION', 'S', 'SUBTRACT', 'SUBTRACTION', 'M', 'MULTIPLY', 'MULTIPLICATION', 'D', 'DIVIDE', 'DIVISION')\u001b[0m\n\u001b[1;37m                                                                                                                                                ^\u001b[0m\n\u001b[1;31mSyntaxError\u001b[0m\u001b[1;31m:\u001b[0m expected ':'\n"
     ]
    }
   ],
   "source": [
    "choice = input('Enter Choice (A,S,M,D): ')\n",
    "\n",
    "num1 = float(input(' Enter first #: '))\n",
    "\n",
    "num2 = float(input('Enter Second #: '))\n",
    "\n",
    "if choice.upper() in  ('A', 'ADD', 'ADDITION', 'S', 'SUBTRACT', 'SUBTRACTION', 'M', 'MULTIPLY', 'MULTIPLICATION', 'D', 'DIVIDE', 'DIVISION')\n",
    "\n"
   ]
  },
  {
   "cell_type": "code",
   "execution_count": null,
   "id": "f3d57e92-c054-4b02-b1a0-fa8b9be3e99c",
   "metadata": {},
   "outputs": [],
   "source": []
  },
  {
   "cell_type": "markdown",
   "id": "f610e4c0-242e-4dd5-9830-59aeb901db63",
   "metadata": {},
   "source": [
    "\n",
    "\n",
    "              \n",
    "\n",
    "\n",
    "\n"
   ]
  },
  {
   "cell_type": "code",
   "execution_count": 21,
   "id": "7eda7ffc-28f0-42b4-84c2-19b5616c88c4",
   "metadata": {},
   "outputs": [
    {
     "name": "stdout",
     "output_type": "stream",
     "text": [
      "Enter 'A' for Addition.\n",
      "Enter 'S' for Subtraction.\n",
      "Enter 'M' for Multiplication.\n",
      "Enter 'D' for Division.\n"
     ]
    },
    {
     "name": "stdin",
     "output_type": "stream",
     "text": [
      "Enter Choice (A,S,M,D):  M\n",
      " Enter first #:  10\n",
      "Enter Second #:  0\n"
     ]
    },
    {
     "name": "stdout",
     "output_type": "stream",
     "text": [
      "Result : 10.0 * 0.0 = 0.0\n"
     ]
    },
    {
     "name": "stdin",
     "output_type": "stream",
     "text": [
      "Do you have another equation? (Y/N) :  Y\n",
      "Enter Choice (A,S,M,D):  D\n",
      " Enter first #:  10\n",
      "Enter Second #:  0\n"
     ]
    },
    {
     "ename": "ZeroDivisionError",
     "evalue": "float division by zero",
     "output_type": "error",
     "traceback": [
      "\u001b[1;31m---------------------------------------------------------------------------\u001b[0m",
      "\u001b[1;31mZeroDivisionError\u001b[0m                         Traceback (most recent call last)",
      "Cell \u001b[1;32mIn[21], line 24\u001b[0m\n\u001b[0;32m     21\u001b[0m         \u001b[38;5;28mprint\u001b[39m(\u001b[38;5;124m'\u001b[39m\u001b[38;5;124mResult :\u001b[39m\u001b[38;5;124m'\u001b[39m, num1, \u001b[38;5;124m'\u001b[39m\u001b[38;5;124m*\u001b[39m\u001b[38;5;124m'\u001b[39m, num2, \u001b[38;5;124m'\u001b[39m\u001b[38;5;124m=\u001b[39m\u001b[38;5;124m'\u001b[39m, multiply(num1,num2))\n\u001b[0;32m     23\u001b[0m     \u001b[38;5;28;01melif\u001b[39;00m choice\u001b[38;5;241m.\u001b[39mupper() \u001b[38;5;129;01min\u001b[39;00m (\u001b[38;5;124m'\u001b[39m\u001b[38;5;124mD\u001b[39m\u001b[38;5;124m'\u001b[39m, \u001b[38;5;124m'\u001b[39m\u001b[38;5;124mDIVIDE\u001b[39m\u001b[38;5;124m'\u001b[39m, \u001b[38;5;124m'\u001b[39m\u001b[38;5;124mDIVISION\u001b[39m\u001b[38;5;124m'\u001b[39m) :\n\u001b[1;32m---> 24\u001b[0m         \u001b[38;5;28mprint\u001b[39m(\u001b[38;5;124m'\u001b[39m\u001b[38;5;124mResult :\u001b[39m\u001b[38;5;124m'\u001b[39m, num1, \u001b[38;5;124m'\u001b[39m\u001b[38;5;124m/\u001b[39m\u001b[38;5;124m'\u001b[39m, num2, \u001b[38;5;124m'\u001b[39m\u001b[38;5;124m=\u001b[39m\u001b[38;5;124m'\u001b[39m, divide(num1,num2))\n\u001b[0;32m     26\u001b[0m \u001b[38;5;28;01melse\u001b[39;00m:\n\u001b[0;32m     27\u001b[0m     \u001b[38;5;28mprint\u001b[39m(\u001b[38;5;124m\"\u001b[39m\u001b[38;5;124mPlease input a valid choice.\u001b[39m\u001b[38;5;124m\"\u001b[39m)\n",
      "Cell \u001b[1;32mIn[1], line 11\u001b[0m, in \u001b[0;36mdivide\u001b[1;34m(x, y)\u001b[0m\n\u001b[0;32m     10\u001b[0m \u001b[38;5;28;01mdef\u001b[39;00m \u001b[38;5;21mdivide\u001b[39m(x,y):\n\u001b[1;32m---> 11\u001b[0m     \u001b[38;5;28;01mreturn\u001b[39;00m x \u001b[38;5;241m/\u001b[39m y\n",
      "\u001b[1;31mZeroDivisionError\u001b[0m: float division by zero"
     ]
    }
   ],
   "source": [
    "print(\"Enter 'A' for Addition.\")\n",
    "print(\"Enter 'S' for Subtraction.\")\n",
    "print(\"Enter 'M' for Multiplication.\")\n",
    "print(\"Enter 'D' for Division.\")\n",
    "\n",
    "\n",
    "while True:\n",
    "    choice = input('Enter Choice (A,S,M,D): ')\n",
    "    \n",
    "    if choice.upper() in  ('A', 'ADD', 'ADDITION', 'S', 'SUBTRACT', 'SUBTRACTION', 'M', 'MULTIPLY', 'MULTIPLICATION', 'D', 'DIVIDE', 'DIVISION'):\n",
    "        num1 = float(input(' Enter first #: '))\n",
    "        num2 = float(input('Enter Second #: '))\n",
    "\n",
    "        if choice.upper() in ('A', 'ADD', 'ADDITION') :\n",
    "            print('Result :',num1, '+', num2, '=', add(num1,num2))\n",
    "\n",
    "        elif choice.upper() in ('S', 'SUBTRACT', 'SUBTRACTION') :\n",
    "            print('Result :', num1, '-', num2, '=', subtract(num1,num2))\n",
    "\n",
    "        elif choice.upper() in ('M', 'MULTIPLY', 'MULTIPLICATION') :\n",
    "            print('Result :', num1, '*', num2, '=', multiply(num1,num2))\n",
    "            \n",
    "        elif choice.upper() in ('D', 'DIVIDE', 'DIVISION') :\n",
    "            print('Result :', num1, '/', num2, '=', divide(num1,num2))\n",
    "\n",
    "    else:\n",
    "        print(\"Please input a valid choice.\")\n",
    "\n",
    "    next_calculation = input(\"Do you have another equation? (Y/N) : \")\n",
    "    if next_calculation.lower() in ('no', 'n'):\n",
    "        break\n",
    "    "
   ]
  },
  {
   "cell_type": "code",
   "execution_count": null,
   "id": "62989d7c-4e0d-4d41-8ffc-4d446d8947ff",
   "metadata": {},
   "outputs": [],
   "source": []
  },
  {
   "cell_type": "code",
   "execution_count": null,
   "id": "ed066fb1-634e-472f-99e8-37badd2698ca",
   "metadata": {},
   "outputs": [],
   "source": []
  },
  {
   "cell_type": "code",
   "execution_count": null,
   "id": "90b890cc-e424-495a-b0e9-9dd306f6842a",
   "metadata": {},
   "outputs": [],
   "source": []
  },
  {
   "cell_type": "code",
   "execution_count": null,
   "id": "479fe3dd-975f-4149-b63f-037f36b49cca",
   "metadata": {},
   "outputs": [],
   "source": []
  },
  {
   "cell_type": "code",
   "execution_count": null,
   "id": "4ddabf44-e26b-40ea-93e6-a52c843dce1d",
   "metadata": {},
   "outputs": [],
   "source": []
  },
  {
   "cell_type": "code",
   "execution_count": null,
   "id": "f77f668b-8d5a-4004-8617-fcb290620dce",
   "metadata": {},
   "outputs": [],
   "source": []
  },
  {
   "cell_type": "code",
   "execution_count": null,
   "id": "fe8e77ab-7f88-4b68-a636-8c0a4ce35102",
   "metadata": {},
   "outputs": [],
   "source": []
  },
  {
   "cell_type": "code",
   "execution_count": null,
   "id": "cd966235-40b6-49e1-b4a1-38f2ce56b6ce",
   "metadata": {},
   "outputs": [],
   "source": []
  },
  {
   "cell_type": "code",
   "execution_count": null,
   "id": "9502563a-0119-454d-ad50-ac77ee46b819",
   "metadata": {},
   "outputs": [],
   "source": []
  },
  {
   "cell_type": "code",
   "execution_count": null,
   "id": "284af11f-25a3-438b-af7a-9d5acd6fe33f",
   "metadata": {},
   "outputs": [],
   "source": []
  },
  {
   "cell_type": "code",
   "execution_count": null,
   "id": "2bc1f8df-92c3-45ed-8ded-5f243c8003bf",
   "metadata": {},
   "outputs": [],
   "source": []
  },
  {
   "cell_type": "code",
   "execution_count": null,
   "id": "acd00301-e7e0-4696-8d57-48abf4ca1b9a",
   "metadata": {},
   "outputs": [],
   "source": []
  },
  {
   "cell_type": "code",
   "execution_count": null,
   "id": "eab1937f-85f1-45b7-9994-46a674049d08",
   "metadata": {},
   "outputs": [],
   "source": []
  },
  {
   "cell_type": "code",
   "execution_count": null,
   "id": "42f3f1c7-297e-4dc3-ab73-fc953664fd36",
   "metadata": {},
   "outputs": [],
   "source": []
  },
  {
   "cell_type": "code",
   "execution_count": null,
   "id": "a27e9adf-f9ce-450b-be83-6345613039bb",
   "metadata": {},
   "outputs": [],
   "source": []
  }
 ],
 "metadata": {
  "kernelspec": {
   "display_name": "Python 3 (ipykernel)",
   "language": "python",
   "name": "python3"
  },
  "language_info": {
   "codemirror_mode": {
    "name": "ipython",
    "version": 3
   },
   "file_extension": ".py",
   "mimetype": "text/x-python",
   "name": "python",
   "nbconvert_exporter": "python",
   "pygments_lexer": "ipython3",
   "version": "3.11.7"
  }
 },
 "nbformat": 4,
 "nbformat_minor": 5
}
