{
 "cells": [
  {
   "cell_type": "code",
   "execution_count": 2,
   "id": "1c3dfb19-f346-4f39-96fb-80dd038f4bf2",
   "metadata": {},
   "outputs": [
    {
     "name": "stdin",
     "output_type": "stream",
     "text": [
      "Enter Starting Unit of Measurement (inches, yards, feet): inches\n",
      "Enter New Unit of Measurement (inches, meters, feet): in\n",
      "Enter Starting Measurement in Inches (inches, meters, feet): in\n",
      "Enter Starting Measurement in Feet(inches, meters, feet): in\n",
      "Enter Starting Measurement in Feet(inches, meters, feet): in\n"
     ]
    }
   ],
   "source": [
    "convert_from = input(\"Enter Starting Unit of Measurement (inches, yards, feet):\")\n",
    "\n",
    "convert_to = input(\"Enter New Unit of Measurement (inches, meters, feet):\")\n",
    "\n",
    "number_of_inches = input(\"Enter Starting Measurement in Inches (inches, meters, feet):\")\n",
    "\n",
    "number_of_feet = input(\"Enter Starting Measurement in Feet(inches, meters, feet):\")\n",
    "\n",
    "number_of_yards = input(\"Enter Starting Measurement in Feet(inches, meters, feet):\")"
   ]
  },
  {
   "cell_type": "code",
   "execution_count": 18,
   "id": "f1672a38-5be2-489f-b5da-56b37c118695",
   "metadata": {},
   "outputs": [
    {
     "name": "stdin",
     "output_type": "stream",
     "text": [
      "Enter Starting Unit of Measurement (inches, yards, feet): feet\n",
      "Enter New Unit of Measurement (inches, meters, feet): yards\n",
      "Enter Starting Measurement in Feet : 9\n"
     ]
    },
    {
     "name": "stdout",
     "output_type": "stream",
     "text": [
      "3.0 yards\n"
     ]
    }
   ],
   "source": [
    "convert_from = input(\"Enter Starting Unit of Measurement (inches, yards, feet):\")\n",
    "\n",
    "convert_to = input(\"Enter New Unit of Measurement (inches, meters, feet):\")\n",
    "\n",
    "if convert_from.lower() in [\"inches\", \"in\", \"inch\"]:\n",
    "    number_of_inches = int(input(\"Enter Starting Measurement in Inches :\"))\n",
    "    if convert_to.lower() in [\"feet\", \"foot\", \"ft\"]:\n",
    "        print (number_of_inches / 12, \"feet\")\n",
    "    elif convert_to.lower() in [\"yards\",\"yard\",\"yd\"]:\n",
    "        print(number_of_inches / 36, \"yards\")\n",
    "    else:\n",
    "            print(\" error in input\")\n",
    "elif convert_from.lower() in [\"feet\", \"foot\", \"ft\"]:\n",
    "    number_of_feet = int(input(\"Enter Starting Measurement in Feet :\"))\n",
    "    if convert_to.lower() in [\"inches\", \"in\", \"inch\"]:\n",
    "        print (number_of_feet * 12, \"inches\")\n",
    "    elif convert_to.lower() in [\"yards\",\"yard\",\"yd\"]:\n",
    "        print(number_of_feet / 3, \"yards\")\n",
    "    else:\n",
    "        print(\" error in input\")\n",
    "elif convert_from.lower() in [\"yards\",\"yard\",\"yd\"]:\n",
    "    number_of_yards = int(input(\"Enter Starting Measurement in Yards :\"))\n",
    "    if convert_to.lower() in [\"feet\", \"foot\", \"ft\"]:\n",
    "        print (number_of_yards * 3, \"feet\")\n",
    "    elif convert_to.lower() in [\"inches\", \"in\", \"inch\"]:\n",
    "        print(number_of_yards * 36, \"inches\")\n",
    "    else:\n",
    "        print(\" error in input\")"
   ]
  },
  {
   "cell_type": "code",
   "execution_count": null,
   "id": "00525288-135c-4147-a1a8-2f288ac2a1e1",
   "metadata": {},
   "outputs": [],
   "source": []
  },
  {
   "cell_type": "code",
   "execution_count": null,
   "id": "cad42dfe-34b8-400a-9ff7-18f042635b2a",
   "metadata": {},
   "outputs": [],
   "source": []
  },
  {
   "cell_type": "code",
   "execution_count": null,
   "id": "51849fb5-ce0b-4aa9-9ae3-21c65d60f877",
   "metadata": {},
   "outputs": [],
   "source": []
  },
  {
   "cell_type": "code",
   "execution_count": null,
   "id": "49a0edd3-f07b-42bc-9292-6eb206d3819f",
   "metadata": {},
   "outputs": [],
   "source": []
  },
  {
   "cell_type": "code",
   "execution_count": null,
   "id": "b85214ea-5af5-46c2-8fa7-dcb74009602c",
   "metadata": {},
   "outputs": [],
   "source": []
  },
  {
   "cell_type": "code",
   "execution_count": null,
   "id": "aeda3474-7c8a-401b-807a-cdb96f26f160",
   "metadata": {},
   "outputs": [],
   "source": []
  },
  {
   "cell_type": "code",
   "execution_count": null,
   "id": "4eee7f66-18bf-49d7-a04f-ae265a342b35",
   "metadata": {},
   "outputs": [],
   "source": []
  },
  {
   "cell_type": "code",
   "execution_count": null,
   "id": "278a0e7d-1a40-4516-a4df-23311093af37",
   "metadata": {},
   "outputs": [],
   "source": []
  },
  {
   "cell_type": "code",
   "execution_count": null,
   "id": "c3682780-9752-4bb6-8d71-6b8388901a7e",
   "metadata": {},
   "outputs": [],
   "source": []
  },
  {
   "cell_type": "code",
   "execution_count": null,
   "id": "3a1b861e-84c8-4e2e-93ff-8206fdceea7b",
   "metadata": {},
   "outputs": [],
   "source": []
  },
  {
   "cell_type": "code",
   "execution_count": null,
   "id": "4634627a-59bb-4e83-b7ba-48ae1f7d6254",
   "metadata": {},
   "outputs": [],
   "source": []
  },
  {
   "cell_type": "code",
   "execution_count": null,
   "id": "cd74dfa7-15de-46d0-aee9-9794156d1b79",
   "metadata": {},
   "outputs": [],
   "source": []
  },
  {
   "cell_type": "code",
   "execution_count": null,
   "id": "bf25a6bc-8225-41f4-8bdd-96a9c0e4fce9",
   "metadata": {},
   "outputs": [],
   "source": []
  },
  {
   "cell_type": "code",
   "execution_count": null,
   "id": "20e3a6e7-f652-4f1b-ae9e-d6dce06fdb78",
   "metadata": {},
   "outputs": [],
   "source": []
  },
  {
   "cell_type": "code",
   "execution_count": null,
   "id": "9841ba03-96d2-4532-96ef-bc98ad33ab19",
   "metadata": {},
   "outputs": [],
   "source": []
  },
  {
   "cell_type": "code",
   "execution_count": null,
   "id": "9f84273a-baa8-403e-9305-be2b1e5e58fd",
   "metadata": {},
   "outputs": [],
   "source": []
  }
 ],
 "metadata": {
  "kernelspec": {
   "display_name": "Python 3 (ipykernel)",
   "language": "python",
   "name": "python3"
  },
  "language_info": {
   "codemirror_mode": {
    "name": "ipython",
    "version": 3
   },
   "file_extension": ".py",
   "mimetype": "text/x-python",
   "name": "python",
   "nbconvert_exporter": "python",
   "pygments_lexer": "ipython3",
   "version": "3.11.7"
  }
 },
 "nbformat": 4,
 "nbformat_minor": 5
}
